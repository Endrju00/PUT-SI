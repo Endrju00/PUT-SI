{
 "cells": [
  {
   "cell_type": "markdown",
   "metadata": {},
   "source": [
    "# Sieci splotowe"
   ]
  },
  {
   "cell_type": "code",
   "execution_count": 1,
   "metadata": {},
   "outputs": [],
   "source": [
    "%matplotlib inline\n",
    "\n",
    "import matplotlib\n",
    "import numpy as np\n",
    "import matplotlib.pyplot as plt\n",
    "\n",
    "import torch\n",
    "import torch.nn as nn\n",
    "import torch.optim as optim\n",
    "import torch.utils.data as data"
   ]
  },
  {
   "cell_type": "markdown",
   "metadata": {},
   "source": [
    "## Przygotowanie danych\n",
    "Ponownie wykorzystamy w zadaniu zbiór MNIST. Zaczynamy od pobrania dnaych."
   ]
  },
  {
   "cell_type": "code",
   "execution_count": 4,
   "metadata": {},
   "outputs": [],
   "source": [
    "import torchvision.transforms as transforms\n",
    "from torchvision.datasets import MNIST\n",
    "\n",
    "target_directory = \"mnist\"\n",
    "\n",
    "mnist_real_train = MNIST(target_directory, train=True, download=True, transform=transforms.ToTensor())\n",
    "mnist_test = MNIST(target_directory, train=False, download=True, transform=transforms.ToTensor())"
   ]
  },
  {
   "cell_type": "code",
   "execution_count": 5,
   "metadata": {},
   "outputs": [
    {
     "data": {
      "text/plain": [
       "(48000, 12000)"
      ]
     },
     "execution_count": 5,
     "metadata": {},
     "output_type": "execute_result"
    }
   ],
   "source": [
    "mnist_train, mnist_validation = data.random_split(mnist_real_train, (48000, 12000))\n",
    "len(mnist_train), len(mnist_validation)"
   ]
  },
  {
   "cell_type": "code",
   "execution_count": 6,
   "metadata": {},
   "outputs": [
    {
     "data": {
      "text/plain": [
       "torch.Size([1, 28, 28])"
      ]
     },
     "execution_count": 6,
     "metadata": {},
     "output_type": "execute_result"
    }
   ],
   "source": [
    "mnist_train[0][0].shape"
   ]
  },
  {
   "cell_type": "code",
   "execution_count": 7,
   "metadata": {},
   "outputs": [],
   "source": [
    "def compute_acc(logits, expected):\n",
    "    pred = logits.argmax(dim=1)\n",
    "    return (pred == expected).type(torch.float).mean()"
   ]
  },
  {
   "cell_type": "markdown",
   "metadata": {},
   "source": [
    "## Budowa sieci neuronowej"
   ]
  },
  {
   "cell_type": "markdown",
   "metadata": {},
   "source": [
    "### Warstwa splotowa\n",
    "\n",
    "Warstwa splotowa (ang. *convolutional layer*) przesuwa jądro (ang. *kernel*) po obrazie (w ogólności: po macierzy) miejsce przy miejscu, oblicza wynik i zapamiętuje w macierzy wyjściowej. Na poniższym rysunku mamy do czynienia z obrazem $7\\times 5$ pikseli (jasnoszary obszar w dolnej części rysunku) po którym przesuwane jest jądro $3\\times 3$ piksele. Obrazek jest uzupełniony (ang. *padding*) o zera, zaznaczone na rysunku kolorem ciemnoszarym. Po co takie uzupełnienie? Bez niego macierz wynikowa byłaby mniejsza niż obrazek wejściowy. Czerwony piksel w macierzy wyjściowej obliczany jest następująco: każdy z pikseli obrazu wejściowego jest mnożony przez odpowiadającą mu wartość w filtrze, a tak uzyskane 9 wartości jest sumowane. Następnie ten sam filtr wykorzystywany jest do obliczenia kolejnego piksela - zaznaczonego na niebiesko - na podstawie pikseli wejściowych zaznaczonych niebieską linią przerywaną. Filtr to są wagi splotowej sieci neuronowej, to znaczy to on podlega uczeniu."
   ]
  },
  {
   "cell_type": "markdown",
   "metadata": {},
   "source": [
    "![Rysunek poglądowy dotyczący warstwy splotowej](img/mlst_1303.png)\n",
    "\n",
    "Aurélien Géron \"Hands-On Machine Learning with Scikit-Learn, Keras, and TensorFlow\" O'Reilly Media 2017"
   ]
  },
  {
   "cell_type": "markdown",
   "metadata": {},
   "source": [
    "Jądro nie musi przsuwać się za każdym razem o 1 piksel, może mieć większy krok (ang. *stride*), jak na poniższym rysunku."
   ]
  },
  {
   "cell_type": "markdown",
   "metadata": {},
   "source": [
    "![Ilustracja *stride*](img/mlst_1304.png)\n",
    "\n",
    "Aurélien Géron \"Hands-On Machine Learning with Scikit-Learn, Keras, and TensorFlow\" O'Reilly Media 2017"
   ]
  },
  {
   "cell_type": "markdown",
   "metadata": {},
   "source": [
    "Ale, ale... przecież obrazki mogą być kolorowe! No i faktycznie, możemy postrzegać pojedynczy obrazek jako kilka obrazków monochromatycznych. Wtedy zamiast przesuwać płaski filtr po pojedynczym obrazku przesuwamy kostkę, której dwa wymiary możemy modyfikować (odpowiedzialne za wysokość i szerokość), natomiast jej głębokość jest ustalona - zależy od liczby warstw obrazka. Na poniższym rysunku zaczynamy od normalnego obrazka RGB, który następnie jest zamieniany na wiele map - każda posiadająca swój jeden filtr (kostkę) - w ten sposób powstaje nowy \"obrazek\" podpisany na rysunku *Convolutional layer 1*, na którym... ponawiamy operację! Używając nowego zestawu filtrów tworzymy *Convolutional layer 2*."
   ]
  },
  {
   "cell_type": "markdown",
   "metadata": {},
   "source": [
    "![Ilustracja sieci splotowej w przypadku trójwymiarowym](img/mlst_1306.png)\n",
    "\n",
    "Aurélien Géron \"Hands-On Machine Learning with Scikit-Learn, Keras, and TensorFlow\" O'Reilly Media 2017"
   ]
  },
  {
   "cell_type": "markdown",
   "metadata": {},
   "source": [
    "Warstwę splotową w PyTorch realizuje klasa [`torch.nn.Conv2d`](https://pytorch.org/docs/stable/nn.html?highlight=conv2d#torch.nn.Conv2d). Pierwsze trzy parametry jej konstruktora są obowiązkowe, to kolejno: liczba map na wejściu, liczba map na wyjściu, rozmiar jądra (jedna liczba jeżeli ma być kwadratowe albo para liczb jeżeli ma być prostokątem).\n",
    "\n",
    "Będziemy budowali krok po kroku tablicę `layers`, której będziemy umieszczali kolejne warstwy naszej sieci neuronowej.\n",
    "Rozpoczniemy od dodania warstwy splotowej.\n",
    "Obrazki MNIST są monochromatyczne, więc mamy tylko 1 kanał wejściowy.\n",
    "Przyjmimy, że na wyjściu będziemy mieli 5 map, każdą na bazie kwadratowego filtra o boku 3.\n",
    "Żeby nie zmniejszyć zbyt szybko obrazka dodamy po 1 pikselu paddingu z każdej strony - jak na rysunku powyżej."
   ]
  },
  {
   "cell_type": "code",
   "execution_count": 8,
   "metadata": {},
   "outputs": [],
   "source": [
    "layers = [\n",
    "    nn.Conv2d(1, 5, 3, padding=1)\n",
    "]"
   ]
  },
  {
   "cell_type": "markdown",
   "metadata": {},
   "source": [
    "### Nieliniowość\n",
    "\n",
    "Warstwa splotowa - podobnie jak warstwa liniowa (`nn.Linear`) - jest tylko sumą. Nie ma sensu bezpośrednie składanie kilku warstw splotowych jedna na drugą, potrzebna jest nieliniowość. Zastosujemy *leaky ReLU*, funkcję aktywacji przedstawioną na poniższym wykresie"
   ]
  },
  {
   "cell_type": "markdown",
   "metadata": {},
   "source": [
    "![Leaky ReLU](img/leaky_relu.png)\n",
    "\n",
    "Aurélien Géron \"Hands-On Machine Learning with Scikit-Learn, Keras, and TensorFlow\" O'Reilly Media 2017"
   ]
  },
  {
   "cell_type": "code",
   "execution_count": 9,
   "metadata": {},
   "outputs": [],
   "source": [
    "layers.append(nn.LeakyReLU())"
   ]
  },
  {
   "cell_type": "markdown",
   "metadata": {},
   "source": [
    "### Łączenie\n",
    "\n",
    "Sieć splotowa pozwala uwydatnić pewne cechy w obrazie, na przykład na poniższym rysunku na mapie po lewej stronie uwydatnione zostały linie pionowe, a po prawej linie poziome. "
   ]
  },
  {
   "cell_type": "markdown",
   "metadata": {},
   "source": [
    "![](img/mlst_1305.png)\n",
    "\n",
    "Aurélien Géron \"Hands-On Machine Learning with Scikit-Learn, Keras, and TensorFlow\" O'Reilly Media 2017"
   ]
  },
  {
   "cell_type": "markdown",
   "metadata": {},
   "source": [
    "Z drugiej strony to uwydatnienie spowodowało, że trochę straciliśmy szczegóły i właściwie nie potrzebujemy już tak dużej rozdzielczości. Z pomocą przychodzi operacja łączenia (ang. *pooling*), która podobnie jak sieć splotowa przesuwa filtr przez obraz, ale ten filtr jest pozbawiony parametrów: służy albo do wybierania maksimum (ang. *max pooling*) albo do obliczania średniej arytmetycznej (ang. *average pooling*). Poniższy rysunek zgrubnie prezentuje ideę *max pooling* (kernel $2\\times 2$, stride 2, bez paddingu - stąd $\\times$ w ostatniej kolumnie). W przypadku operacji łączenia nie ma problemu z przejściem do przetwarzania obrazów kolorowych - każda mapa (kanał) analizowana jest oddzielnie, więc zawsze pozostajemy w dwóch wymiarach, wykonując tę operację."
   ]
  },
  {
   "cell_type": "markdown",
   "metadata": {},
   "source": [
    "![max pooling](img/mlst_1308.png)\n",
    "\n",
    "Aurélien Géron \"Hands-On Machine Learning with Scikit-Learn, Keras, and TensorFlow\" O'Reilly Media 2017"
   ]
  },
  {
   "cell_type": "markdown",
   "metadata": {},
   "source": [
    "Dodamy do naszej sieci neuronowej *max pooling*, realizowany za pomocą klasy `nn.MaxPool2d`, z jądrem rozmiaru $3\\times 3$ i uzupełnieniem o 1 piksel z każdej strony."
   ]
  },
  {
   "cell_type": "code",
   "execution_count": 10,
   "metadata": {},
   "outputs": [],
   "source": [
    "layers.append(nn.MaxPool2d(3, padding=1))"
   ]
  },
  {
   "cell_type": "markdown",
   "metadata": {},
   "source": [
    "### Zadanie 1\n",
    "\n",
    "Ile map i jakiego rozmiaru będzie na tym etapie przetwarzania, jeżeli wejście miało jedną mapę rozmiaru $28\\times 28$?"
   ]
  },
  {
   "cell_type": "markdown",
   "metadata": {},
   "source": [
    "* **Liczba map**: 5 \n",
    "* **Rozmiar każdej mapy**: 10x10 "
   ]
  },
  {
   "cell_type": "markdown",
   "metadata": {},
   "source": [
    "### Spłaszczanie\n",
    "\n",
    "Na tym etapie każdy obiekt przetwarzany przez naszą sieć neuronową jest trójwymiarowy, tj. składa się z pewnej liczby dwuwymiarowych map. Takiego wejścia nie możemy podać do warstwy liniowej! Wykorzystamy klasę `nn.Flatten`, żeby ułożyć piksele jeden za drugim w formie wektora."
   ]
  },
  {
   "cell_type": "code",
   "execution_count": 11,
   "metadata": {},
   "outputs": [],
   "source": [
    "layers.append(nn.Flatten())"
   ]
  },
  {
   "cell_type": "markdown",
   "metadata": {},
   "source": [
    "### Zadanie 2: Warstwa liniowa\n",
    "\n",
    "Tak samo jak na poprzednich zajęciach wykorzystamy do klasyfikacji warstwę `nn.Linear`. Klasyfikujemy do 10 klas, więc musimy mieć 10 neuronów, ale ilu wejść potrzebujemy? Uzupełnij poprzedni kod na podstawie wyników zadania 1."
   ]
  },
  {
   "cell_type": "code",
   "execution_count": 12,
   "metadata": {},
   "outputs": [],
   "source": [
    "layers.append(nn.Linear(100 * 5, 10))"
   ]
  },
  {
   "cell_type": "markdown",
   "metadata": {},
   "source": [
    "### Faktyczna budowa sieci neuronowej\n",
    "\n",
    "Warstwy połączymy w jeden moduł wykorzystując klasę `nn.Sequential`, jako funkcję straty wykorzystamy entropię krzyżową, a do optymalizacji optymalizator Adam."
   ]
  },
  {
   "cell_type": "code",
   "execution_count": 13,
   "metadata": {},
   "outputs": [],
   "source": [
    "model = nn.Sequential(*layers)\n",
    "\n",
    "cost = torch.nn.CrossEntropyLoss()\n",
    "opt = optim.Adam(model.parameters())"
   ]
  },
  {
   "cell_type": "code",
   "execution_count": 14,
   "metadata": {},
   "outputs": [
    {
     "data": {
      "text/plain": [
       "Sequential(\n",
       "  (0): Conv2d(1, 5, kernel_size=(3, 3), stride=(1, 1), padding=(1, 1))\n",
       "  (1): LeakyReLU(negative_slope=0.01)\n",
       "  (2): MaxPool2d(kernel_size=3, stride=3, padding=1, dilation=1, ceil_mode=False)\n",
       "  (3): Flatten(start_dim=1, end_dim=-1)\n",
       "  (4): Linear(in_features=500, out_features=10, bias=True)\n",
       ")"
      ]
     },
     "execution_count": 14,
     "metadata": {},
     "output_type": "execute_result"
    }
   ],
   "source": [
    "model"
   ]
  },
  {
   "cell_type": "markdown",
   "metadata": {},
   "source": [
    "## Uczenie z wykorzystaniem wczesnego zatrzymania\n",
    "\n",
    "Wczesne zatrzymanie (ang. *early stopping*) polega na tym, że co określoną liczbę epok uczenia obliczamy miarę oceny (np. trafność klasyfikacji) na zbiorze walidującym. Jeżeli nastąpiła poprawa w stosunku do poprzedniego razu, to zapamiętujemy obecne wartości wag sieci neuronowej, jeżeli zaś przez kilka razy nie następuje poprawa, to przerywamy uczenie i przywracamy wagi ostatniego najlepszego modelu.\n",
    "\n",
    "Poniższy kawałek kodu oblicza trafność na zbiorze walidującym co epokę i przerywa uczenie jeżeli przez 5 kolejnych epok nie nastąpiła poprawa."
   ]
  },
  {
   "cell_type": "code",
   "execution_count": 15,
   "metadata": {},
   "outputs": [
    {
     "name": "stdout",
     "output_type": "stream",
     "text": [
      "New best epoch  0 acc tensor(0.7923)\n",
      "New best epoch  1 acc tensor(0.8557)\n",
      "New best epoch  2 acc tensor(0.8802)\n",
      "New best epoch  3 acc tensor(0.8908)\n",
      "New best epoch  4 acc tensor(0.9022)\n",
      "New best epoch  5 acc tensor(0.9089)\n",
      "New best epoch  6 acc tensor(0.9147)\n",
      "New best epoch  7 acc tensor(0.9204)\n",
      "New best epoch  8 acc tensor(0.9231)\n",
      "New best epoch  9 acc tensor(0.9281)\n",
      "New best epoch  10 acc tensor(0.9298)\n",
      "New best epoch  11 acc tensor(0.9333)\n",
      "New best epoch  12 acc tensor(0.9353)\n",
      "New best epoch  13 acc tensor(0.9386)\n",
      "New best epoch  14 acc tensor(0.9399)\n",
      "New best epoch  15 acc tensor(0.9410)\n",
      "New best epoch  16 acc tensor(0.9436)\n",
      "New best epoch  17 acc tensor(0.9437)\n",
      "New best epoch  18 acc tensor(0.9463)\n",
      "New best epoch  19 acc tensor(0.9473)\n",
      "New best epoch  20 acc tensor(0.9483)\n",
      "New best epoch  21 acc tensor(0.9490)\n",
      "New best epoch  22 acc tensor(0.9503)\n",
      "New best epoch  23 acc tensor(0.9514)\n",
      "New best epoch  25 acc tensor(0.9534)\n",
      "New best epoch  27 acc tensor(0.9539)\n",
      "New best epoch  28 acc tensor(0.9544)\n",
      "New best epoch  29 acc tensor(0.9547)\n",
      "New best epoch  30 acc tensor(0.9560)\n",
      "New best epoch  31 acc tensor(0.9561)\n",
      "New best epoch  32 acc tensor(0.9572)\n",
      "New best epoch  36 acc tensor(0.9579)\n",
      "New best epoch  37 acc tensor(0.9582)\n",
      "New best epoch  38 acc tensor(0.9599)\n",
      "New best epoch  40 acc tensor(0.9604)\n",
      "New best epoch  43 acc tensor(0.9613)\n",
      "New best epoch  46 acc tensor(0.9623)\n",
      "New best epoch  50 acc tensor(0.9636)\n",
      "New best epoch  55 acc tensor(0.9641)\n",
      "New best epoch  57 acc tensor(0.9654)\n",
      "New best epoch  62 acc tensor(0.9658)\n",
      "No improvement for 5 epochs\n"
     ]
    },
    {
     "data": {
      "text/plain": [
       "<All keys matched successfully>"
      ]
     },
     "execution_count": 15,
     "metadata": {},
     "output_type": "execute_result"
    }
   ],
   "source": [
    "train_loss = []\n",
    "validation_acc = []\n",
    "best_model = None\n",
    "best_acc = None\n",
    "best_epoch = None\n",
    "max_epoch = 10000\n",
    "no_improvement = 5\n",
    "batch_size = 512\n",
    "\n",
    "for n_epoch in range(max_epoch):\n",
    "    model.train()\n",
    "    loader = data.DataLoader(mnist_train, batch_size=batch_size, shuffle=True, num_workers=1)\n",
    "    epoch_loss = []\n",
    "    for X_batch, y_batch in loader:\n",
    "        opt.zero_grad()\n",
    "        logits = model(X_batch)\n",
    "        loss = cost(logits, y_batch)\n",
    "        loss.backward()\n",
    "        opt.step()        \n",
    "        epoch_loss.append(loss.detach())\n",
    "    train_loss.append(torch.tensor(epoch_loss).mean())\n",
    "    model.eval()\n",
    "    loader = data.DataLoader(mnist_validation, batch_size=len(mnist_validation), shuffle=False)\n",
    "    X, y = next(iter(loader))\n",
    "    logits = model(X)\n",
    "    acc = compute_acc(logits, y).detach()\n",
    "    validation_acc.append(acc)\n",
    "    if best_acc is None or acc > best_acc:\n",
    "        print(\"New best epoch \", n_epoch, \"acc\", acc)\n",
    "        best_acc = acc\n",
    "        best_model = model.state_dict()\n",
    "        best_epoch = n_epoch\n",
    "    if best_epoch + no_improvement <= n_epoch:\n",
    "        print(\"No improvement for\", no_improvement, \"epochs\")\n",
    "        break\n",
    "        \n",
    "model.load_state_dict(best_model)"
   ]
  },
  {
   "cell_type": "markdown",
   "metadata": {},
   "source": [
    "Przyjrzyj się poniższym wykresom"
   ]
  },
  {
   "cell_type": "code",
   "execution_count": 16,
   "metadata": {},
   "outputs": [
    {
     "data": {
      "image/png": "[encoded data removed]",
      "text/plain": [
       "<Figure size 432x288 with 1 Axes>"
      ]
     },
     "metadata": {
      "needs_background": "light"
     },
     "output_type": "display_data"
    },
    {
     "data": {
      "image/png": "[encoded data removed]",
      "text/plain": [
       "<Figure size 432x288 with 1 Axes>"
      ]
     },
     "metadata": {
      "needs_background": "light"
     },
     "output_type": "display_data"
    },
    {
     "data": {
      "image/png": "[encoded data removed]",
      "text/plain": [
       "<Figure size 432x288 with 1 Axes>"
      ]
     },
     "metadata": {
      "needs_background": "light"
     },
     "output_type": "display_data"
    }
   ],
   "source": [
    "plt.title('Validation accuracy. Dot denotes best accuracy.')\n",
    "plt.plot(validation_acc, label='Validation accuracy')\n",
    "plt.plot(best_epoch, best_acc, 'bo', label='Best accuracy')\n",
    "plt.show()\n",
    "plt.title('Training loss')\n",
    "plt.plot(train_loss)\n",
    "plt.show()\n",
    "k = max(3*no_improvement, 0)\n",
    "plt.title('Last {} epochs'.format(k))\n",
    "plt.plot(validation_acc[-k:])\n",
    "plt.plot(best_epoch-(len(validation_acc)-k), best_acc, 'bo')\n",
    "plt.show()"
   ]
  },
  {
   "cell_type": "markdown",
   "metadata": {},
   "source": [
    "### Zadanie 3\n",
    "Dlaczego wczesne zatrzymanie jest realizowane na zbiorze walidującym, a nie na zbiorze uczącym albo na zbiorze testowym?"
   ]
  },
  {
   "cell_type": "markdown",
   "metadata": {},
   "source": [
    "**Trenowanie sieci na zbiorze uczącym polega na minimalizacji kosztu, z każdą epoką koszt będzie spadać a więc nie ma potrzeby jego monitorowania i realizacji wczesnego zatrzymania. Zbioru testowego używa się do ewaluacji modelu na nowych danych - oceny finalnego modelu, użycie go w powyższym procesie skutkowałoby zjawiskiem \"data leakage\" przez co ewaluacja mogłaby być błędna. Za to zbiór walidacyjny służy do optymalizacji dobranych parametrów i sprawdzenia procesu uczenia się.**"
   ]
  },
  {
   "cell_type": "markdown",
   "metadata": {},
   "source": [
    "### Zadanie 4\n",
    "\n",
    "Oblicz trafność klasyfikacji na zbiorze walidującym i na zbiorze testowym. Czy uzyskane wartości się różnią? W którą stronę? Dlaczego tak może być?"
   ]
  },
  {
   "cell_type": "code",
   "execution_count": 17,
   "metadata": {},
   "outputs": [
    {
     "name": "stdout",
     "output_type": "stream",
     "text": [
      "Walidacyjny: 0.9650, Testowy: 0.9666\n"
     ]
    }
   ],
   "source": [
    "## Tu napisz odpowiedni kod\n",
    "with torch.no_grad():\n",
    "    model.eval()\n",
    "    validation_loader = data.DataLoader(mnist_validation, batch_size=len(mnist_validation), shuffle=False)\n",
    "    X_validation, y_validation = next(iter(validation_loader))\n",
    "    y_pred_validation = model(X_validation)\n",
    "    validation_acc = compute_acc(y_pred_validation, y_validation).detach()\n",
    "\n",
    "    test_loader = data.DataLoader(mnist_test, batch_size=len(mnist_test), shuffle=False)\n",
    "    X_test, y_test = next(iter(test_loader))\n",
    "    y_pred_test = model(X_test)\n",
    "    test_acc = compute_acc(y_pred_test, y_test).detach()\n",
    "\n",
    "print(f'Walidacyjny: {float(validation_acc):.4f}, Testowy: {float(test_acc):.4f}')"
   ]
  },
  {
   "cell_type": "markdown",
   "metadata": {},
   "source": [
    "**Wartości się różnią, trafność klasyfikacji na zbiorze testowym jest delikatnie większa. Powodem tego zjawiska może być to, że w zbiorze testowym znalazły się przykłady, które modelowi łatwiej sklasyfikować. Gdybyśmy przeprowadzili jakąś formę optymalizacji hiperparametrów i przetestowali np. dodanie/odjęcie warstw w sieci a następnie do porównania powstałych modeli użylibyśmy zbioru walidującego, oczekiwalibyśmy na nim lepszych wartości niż na zbiorze testowym.**"
   ]
  },
  {
   "cell_type": "markdown",
   "metadata": {},
   "source": [
    "## Zadanie do samodzielnego wykonania\n",
    "\n",
    "Zaimplementuj sieć o architekturze zbliżonej do [LeNet-5](http://yann.lecun.com/exdb/publis/pdf/lecun-01a.pdf), zgodnie z poniższym opisem:\n",
    "\n",
    "|Nr warstwy|Typ|Rozmiar wyjścia|Liczba filtrów|Rozmiar jądra (`kernel_size`)|Krok (`stride`)|Padding|Funkcja aktywacji|\n",
    "|----------|---|---------------|--------------|-----------------------|---------------|-------|-----------------|\n",
    "|1|splotowa|$28\\times 28$|6|$5\\times 5$|1|2|tanh|\n",
    "|2|avgerage pooling|$14\\times 14$|6|$2\\times 2$|2|0|tanh|\n",
    "|3|splotowa|$10\\times 10$|16|$5\\times 5$|1|0|tanh|\n",
    "|4|average pooling|$5\\times 5$|16|$2\\times 2$|2|0|tanh|\n",
    "|5|splotowa|$1\\times 1$|120|$5\\times 5$|1|0|tanh|\n",
    "|6|pełna|84|||||tanh|\n",
    "|7|pełna|10|||||brak|"
   ]
  },
  {
   "cell_type": "markdown",
   "metadata": {},
   "source": [
    "Architektura w formie rysunku (z [oryginalnego artykułu](http://yann.lecun.com/exdb/publis/pdf/lecun-01a.pdf)):\n",
    "\n",
    "![LeNet5 architecture](img/lenet5.png)"
   ]
  },
  {
   "cell_type": "markdown",
   "metadata": {},
   "source": [
    "## Zadania szczegółowe:\n",
    "\n",
    "1. Zbuduj sieć\n",
    "2. Ucz sieć wykorzystując early stopping (przez ocenę accuracy na zbiorze walidującym)\n",
    "3. Oceń jakość sieci na zbiorze testowym\n",
    "4. Wyświetl 10 źle zaklasyfikowanych przypadków ze zbioru testowego, razem z informacją o poprawnej etykiecie oraz etykiecie zaproponowanej przez model. Posłuż się funkcją `plt.imshow`"
   ]
  },
  {
   "cell_type": "code",
   "execution_count": 18,
   "metadata": {},
   "outputs": [],
   "source": [
    "lenet_layers = [\n",
    "    nn.Conv2d(1, 6, 5, padding=2),\n",
    "    nn.Tanh(),\n",
    "    nn.AvgPool2d(2),\n",
    "    nn.Tanh(),\n",
    "    nn.Conv2d(6, 16, 5, padding=0),\n",
    "    nn.Tanh(),\n",
    "    nn.AvgPool2d(2),\n",
    "    nn.Tanh(),\n",
    "    nn.Conv2d(16, 120, 5, padding=0),\n",
    "    nn.Tanh(),\n",
    "    nn.Flatten(),\n",
    "    nn.Linear(120, 84),\n",
    "    nn.Tanh(),\n",
    "    nn.Linear(84, 10)\n",
    "]"
   ]
  },
  {
   "cell_type": "code",
   "execution_count": 19,
   "metadata": {},
   "outputs": [
    {
     "data": {
      "text/plain": [
       "Sequential(\n",
       "  (0): Conv2d(1, 6, kernel_size=(5, 5), stride=(1, 1), padding=(2, 2))\n",
       "  (1): Tanh()\n",
       "  (2): AvgPool2d(kernel_size=2, stride=2, padding=0)\n",
       "  (3): Tanh()\n",
       "  (4): Conv2d(6, 16, kernel_size=(5, 5), stride=(1, 1))\n",
       "  (5): Tanh()\n",
       "  (6): AvgPool2d(kernel_size=2, stride=2, padding=0)\n",
       "  (7): Tanh()\n",
       "  (8): Conv2d(16, 120, kernel_size=(5, 5), stride=(1, 1))\n",
       "  (9): Tanh()\n",
       "  (10): Flatten(start_dim=1, end_dim=-1)\n",
       "  (11): Linear(in_features=120, out_features=84, bias=True)\n",
       "  (12): Tanh()\n",
       "  (13): Linear(in_features=84, out_features=10, bias=True)\n",
       ")"
      ]
     },
     "execution_count": 19,
     "metadata": {},
     "output_type": "execute_result"
    }
   ],
   "source": [
    "lenet = nn.Sequential(*lenet_layers)\n",
    "\n",
    "lenet_cost = torch.nn.CrossEntropyLoss()\n",
    "lenet_opt = optim.Adam(lenet.parameters())\n",
    "lenet"
   ]
  },
  {
   "cell_type": "code",
   "execution_count": 20,
   "metadata": {},
   "outputs": [
    {
     "name": "stdout",
     "output_type": "stream",
     "text": [
      "New best epoch  0 acc tensor(0.8962)\n",
      "New best epoch  1 acc tensor(0.9350)\n",
      "New best epoch  2 acc tensor(0.9514)\n",
      "New best epoch  3 acc tensor(0.9619)\n",
      "New best epoch  4 acc tensor(0.9689)\n",
      "New best epoch  5 acc tensor(0.9728)\n",
      "New best epoch  6 acc tensor(0.9776)\n",
      "New best epoch  8 acc tensor(0.9795)\n",
      "New best epoch  9 acc tensor(0.9814)\n",
      "New best epoch  10 acc tensor(0.9828)\n",
      "New best epoch  12 acc tensor(0.9830)\n",
      "New best epoch  13 acc tensor(0.9849)\n",
      "New best epoch  14 acc tensor(0.9861)\n",
      "New best epoch  15 acc tensor(0.9873)\n",
      "No improvement for 5 epochs\n"
     ]
    },
    {
     "data": {
      "text/plain": [
       "<All keys matched successfully>"
      ]
     },
     "execution_count": 20,
     "metadata": {},
     "output_type": "execute_result"
    }
   ],
   "source": [
    "train_loss = []\n",
    "validation_acc = []\n",
    "best_model = None\n",
    "best_acc = None\n",
    "best_epoch = None\n",
    "max_epoch = 10000\n",
    "no_improvement = 5\n",
    "batch_size = 512\n",
    "\n",
    "for n_epoch in range(max_epoch):\n",
    "    lenet.train()\n",
    "    loader = data.DataLoader(mnist_train, batch_size=batch_size, shuffle=True, num_workers=1)\n",
    "    epoch_loss = []\n",
    "    for X_batch, y_batch in loader:\n",
    "        lenet_opt.zero_grad()\n",
    "        logits = lenet(X_batch)\n",
    "        loss = lenet_cost(logits, y_batch)\n",
    "        loss.backward()\n",
    "        lenet_opt.step()      \n",
    "        epoch_loss.append(loss.detach())\n",
    "    train_loss.append(torch.tensor(epoch_loss).mean())\n",
    "    lenet.eval()\n",
    "    loader = data.DataLoader(mnist_validation, batch_size=len(mnist_validation), shuffle=False)\n",
    "    X, y = next(iter(loader))\n",
    "    logits = lenet(X)\n",
    "    acc = compute_acc(logits, y).detach()\n",
    "    validation_acc.append(acc)\n",
    "    if best_acc is None or acc > best_acc:\n",
    "        print(\"New best epoch \", n_epoch, \"acc\", acc)\n",
    "        best_acc = acc\n",
    "        best_model = lenet.state_dict()\n",
    "        best_epoch = n_epoch\n",
    "    if best_epoch + no_improvement <= n_epoch:\n",
    "        print(\"No improvement for\", no_improvement, \"epochs\")\n",
    "        break\n",
    "        \n",
    "lenet.load_state_dict(best_model)"
   ]
  },
  {
   "cell_type": "code",
   "execution_count": 21,
   "metadata": {},
   "outputs": [
    {
     "name": "stdout",
     "output_type": "stream",
     "text": [
      "Test: 0.9868\n"
     ]
    }
   ],
   "source": [
    "# Ocena na testowym\n",
    "with torch.no_grad():\n",
    "    lenet.eval()\n",
    "    test_loader = data.DataLoader(mnist_test, batch_size=len(mnist_test))  # all data is processed in one batch\n",
    "    X_test, y_test = next(iter(test_loader))\n",
    "    y_pred = lenet(X_test)\n",
    "    test_acc = compute_acc(y_pred, y_test).detach()\n",
    "\n",
    "print(f'Test: {float(test_acc):.4f}')"
   ]
  },
  {
   "cell_type": "code",
   "execution_count": 22,
   "metadata": {},
   "outputs": [
    {
     "data": {
      "image/png": "[encoded data removed]",
      "text/plain": [
       "<Figure size 720x360 with 10 Axes>"
      ]
     },
     "metadata": {
      "needs_background": "light"
     },
     "output_type": "display_data"
    }
   ],
   "source": [
    "# 10 źle zaklasyfikowanych przypadków ze zbioru testowego\n",
    "predicted, expected = y_pred.argmax(dim=1), y_test\n",
    "X = X_test.numpy()\n",
    "wrong_preds = 0\n",
    "plt.figure(figsize=(10, 5))\n",
    "for i in range(len(predicted)):\n",
    "    if wrong_preds == 10:\n",
    "        break\n",
    "    if predicted[i] != expected[i]:\n",
    "        wrong_preds += 1\n",
    "        plt.subplot(2, 5, wrong_preds)\n",
    "        plt.imshow(X[i][0], cmap='binary')\n",
    "        plt.text(0, 27, f'Predicted: {predicted[i]}', color='red')\n",
    "        plt.text(0, 3, f'Expected: {expected[i]}', color='green')\n",
    "plt.show()"
   ]
  }
 ],
 "metadata": {
  "kernelspec": {
   "display_name": "Python 3 (ipykernel)",
   "language": "python",
   "name": "python3"
  },
  "language_info": {
   "codemirror_mode": {
    "name": "ipython",
    "version": 3
   },
   "file_extension": ".py",
   "mimetype": "text/x-python",
   "name": "python",
   "nbconvert_exporter": "python",
   "pygments_lexer": "ipython3",
   "version": "3.7.11"
  }
 },
 "nbformat": 4,
 "nbformat_minor": 2
}
